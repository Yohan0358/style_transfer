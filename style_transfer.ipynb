{
  "nbformat": 4,
  "nbformat_minor": 0,
  "metadata": {
    "colab": {
      "name": "style_transfer.ipynb",
      "provenance": [],
      "collapsed_sections": [],
      "authorship_tag": "ABX9TyNsDbLylmfGxx46AVK103qe",
      "include_colab_link": true
    },
    "kernelspec": {
      "name": "python3",
      "display_name": "Python 3"
    },
    "language_info": {
      "name": "python"
    },
    "accelerator": "GPU"
  },
  "cells": [
    {
      "cell_type": "markdown",
      "metadata": {
        "id": "view-in-github",
        "colab_type": "text"
      },
      "source": [
        "<a href=\"https://colab.research.google.com/github/Yohan0358/style_transfer/blob/master/style_transfer.ipynb\" target=\"_parent\"><img src=\"https://colab.research.google.com/assets/colab-badge.svg\" alt=\"Open In Colab\"/></a>"
      ]
    },
    {
      "cell_type": "code",
      "metadata": {
        "colab": {
          "base_uri": "https://localhost:8080/"
        },
        "id": "jYjyi7p4hyR7",
        "outputId": "4dc3fc53-6433-4a40-8d2b-26d823fdf490"
      },
      "source": [
        "from google.colab import drive\n",
        "drive.mount('./data')"
      ],
      "execution_count": null,
      "outputs": [
        {
          "output_type": "stream",
          "text": [
            "Mounted at ./data\n"
          ],
          "name": "stdout"
        }
      ]
    },
    {
      "cell_type": "code",
      "metadata": {
        "colab": {
          "base_uri": "https://localhost:8080/"
        },
        "id": "Bv7VsWujh6ED",
        "outputId": "d5d8e4a9-a255-4c20-ba84-010d11d2e67b"
      },
      "source": [
        "%cd ./data/MyDrive/GAN/style_transfer/"
      ],
      "execution_count": null,
      "outputs": [
        {
          "output_type": "stream",
          "text": [
            "/content/data/MyDrive/GAN/style_transfer\n"
          ],
          "name": "stdout"
        }
      ]
    },
    {
      "cell_type": "code",
      "metadata": {
        "colab": {
          "base_uri": "https://localhost:8080/"
        },
        "id": "QhIE9iABiTc9",
        "outputId": "1f288708-0c40-4f10-dedf-ea141681851f"
      },
      "source": [
        "!python3 train.py"
      ],
      "execution_count": null,
      "outputs": [
        {
          "output_type": "stream",
          "text": [
            "Training is starting for style1\n",
            "/usr/local/lib/python3.7/dist-packages/torch/nn/functional.py:718: UserWarning: Named tensors and all their associated APIs are an experimental feature and subject to change. Please do not use them for anything important until they are released as stable. (Triggered internally at  /pytorch/c10/core/TensorImpl.h:1156.)\n",
            "  return torch.max_pool2d(input, kernel_size, stride, padding, dilation, ceil_mode)\n",
            "[50/500] | total loss : 8184592384.0 | loss content : 18.4852 | loss style : 818459.25\n",
            "[100/500] | total loss : 5797242880.0 | loss content : 19.4228 | loss style : 579724.3125\n",
            "[150/500] | total loss : 4847654912.0 | loss content : 19.7740 | loss style : 484765.5\n",
            "[200/500] | total loss : 4128896000.0 | loss content : 19.9232 | loss style : 412889.59375\n",
            "[250/500] | total loss : 3507102208.0 | loss content : 20.0889 | loss style : 350710.21875\n",
            "[300/500] | total loss : 2963474176.0 | loss content : 20.2855 | loss style : 296347.40625\n",
            "[350/500] | total loss : 2526555392.0 | loss content : 20.4459 | loss style : 252655.53125\n",
            "[400/500] | total loss : 2178049024.0 | loss content : 20.3498 | loss style : 217804.90625\n",
            "[450/500] | total loss : 1972309248.0 | loss content : 20.8042 | loss style : 197230.921875\n",
            "[500/500] | total loss : 1700980608.0 | loss content : 20.4789 | loss style : 170098.0625\n",
            "Training is starting for style2\n",
            "[50/500] | total loss : 4636338688.0 | loss content : 18.5332 | loss style : 463633.875\n",
            "[100/500] | total loss : 3246640128.0 | loss content : 19.2752 | loss style : 324664.0\n",
            "[150/500] | total loss : 2905866496.0 | loss content : 19.5410 | loss style : 290586.65625\n",
            "[200/500] | total loss : 2703589888.0 | loss content : 19.8027 | loss style : 270359.0\n",
            "[250/500] | total loss : 2561925376.0 | loss content : 19.8921 | loss style : 256192.546875\n",
            "[300/500] | total loss : 2437742080.0 | loss content : 20.1041 | loss style : 243774.21875\n",
            "[350/500] | total loss : 2345135104.0 | loss content : 20.2717 | loss style : 234513.5\n",
            "[400/500] | total loss : 2252910592.0 | loss content : 20.1997 | loss style : 225291.0625\n",
            "[450/500] | total loss : 2171918080.0 | loss content : 20.3537 | loss style : 217191.8125\n",
            "[500/500] | total loss : 2102914048.0 | loss content : 20.3542 | loss style : 210291.40625\n",
            "Training is starting for style3\n",
            "[50/500] | total loss : 845112000.0 | loss content : 11.7483 | loss style : 84511.203125\n",
            "[100/500] | total loss : 479901888.0 | loss content : 11.8111 | loss style : 47990.1875\n",
            "[150/500] | total loss : 389643680.0 | loss content : 11.8820 | loss style : 38964.3671875\n",
            "[200/500] | total loss : 340696640.0 | loss content : 11.8788 | loss style : 34069.6640625\n",
            "[250/500] | total loss : 308060320.0 | loss content : 11.9080 | loss style : 30806.033203125\n",
            "[300/500] | total loss : 283462368.0 | loss content : 11.9190 | loss style : 28346.23828125\n",
            "[350/500] | total loss : 265063168.0 | loss content : 11.9507 | loss style : 26506.314453125\n",
            "[400/500] | total loss : 250489648.0 | loss content : 11.9802 | loss style : 25048.962890625\n",
            "[450/500] | total loss : 237249920.0 | loss content : 11.9591 | loss style : 23724.990234375\n",
            "[500/500] | total loss : 226474976.0 | loss content : 12.0104 | loss style : 22647.49609375\n"
          ],
          "name": "stdout"
        }
      ]
    },
    {
      "cell_type": "code",
      "metadata": {
        "id": "7Pfm27Y7sSSW"
      },
      "source": [
        ""
      ],
      "execution_count": null,
      "outputs": []
    }
  ]
}